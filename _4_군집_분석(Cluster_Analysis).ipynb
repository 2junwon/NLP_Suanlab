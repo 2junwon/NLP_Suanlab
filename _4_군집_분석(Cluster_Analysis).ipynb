{
  "nbformat": 4,
  "nbformat_minor": 0,
  "metadata": {
    "colab": {
      "provenance": [],
      "include_colab_link": true
    },
    "kernelspec": {
      "name": "python3",
      "display_name": "Python 3"
    }
  },
  "cells": [
    {
      "cell_type": "markdown",
      "metadata": {
        "id": "view-in-github",
        "colab_type": "text"
      },
      "source": [
        "<a href=\"https://colab.research.google.com/github/2junwon/NLP_Suanlab/blob/main/_4_%EA%B5%B0%EC%A7%91_%EB%B6%84%EC%84%9D(Cluster_Analysis).ipynb\" target=\"_parent\"><img src=\"https://colab.research.google.com/assets/colab-badge.svg\" alt=\"Open In Colab\"/></a>"
      ]
    },
    {
      "cell_type": "markdown",
      "metadata": {
        "id": "yRJPtXEaccx9"
      },
      "source": [
        "# 군집 분석(Cluster Analysis)\n",
        "\n",
        "* 군집 분석은 데이터의 특성에 따라 유사한 것끼리 묶음\n",
        "* 유사성을 기반으로 군집을 분류하고, 군집에 따라 유형별 특징을 분석하는 기법\n",
        "* 텍스트에 대한 군집 분석에서는 군집으로 묶여진 텍스트들끼리는 최대한 유사하고, 다른 군집으로 묶여진 텍스트들과는 최대한 유사하지 않도록 분류"
      ]
    },
    {
      "cell_type": "markdown",
      "metadata": {
        "id": "VTtgEyisEzZs"
      },
      "source": [
        "## 문서 유사도 측정\n",
        "\n",
        "* 문서와 문서 간의 유사도 비교를 위해 유클리드 거리, 자카드 유사도 그리고 코사인 유사도 계산"
      ]
    },
    {
      "cell_type": "code",
      "metadata": {
        "id": "l-7nbG1VE-cz"
      },
      "source": [],
      "execution_count": null,
      "outputs": []
    },
    {
      "cell_type": "code",
      "source": [],
      "metadata": {
        "id": "6H1uT2uwVNVe"
      },
      "execution_count": null,
      "outputs": []
    },
    {
      "cell_type": "code",
      "source": [],
      "metadata": {
        "id": "Bea46n2xTKeT"
      },
      "execution_count": null,
      "outputs": []
    },
    {
      "cell_type": "markdown",
      "source": [
        "### 유클리드 거리(Euclidean distance)\n",
        "\n",
        "* 다차원 공간에서 두개의 점 $p$와 $q$ 사이의 거리를 계산하는 방법\n",
        "\n",
        "$$ \\sqrt{\\sum_{i=1}^{n}\\left (q_i - p_i \\right)^2} $$\n"
      ],
      "metadata": {
        "id": "y9cRUpl5VyZc"
      }
    },
    {
      "cell_type": "code",
      "source": [],
      "metadata": {
        "id": "DjWU_qGHTCg1"
      },
      "execution_count": null,
      "outputs": []
    },
    {
      "cell_type": "code",
      "source": [],
      "metadata": {
        "id": "cJVZ1dXEVg1S"
      },
      "execution_count": null,
      "outputs": []
    },
    {
      "cell_type": "markdown",
      "source": [
        "### 자카드 유사도(Jaccard Similarity)\n",
        "\n",
        "* 두 텍스트 문서 사이에 공통된 용어의 수와 해당 텍스트에 존재하는 총 고유 용어 수의 비율을 사용\n",
        "\n",
        "$$ jaccard(A, B)=\\frac{\\left | A\\cap B \\right |}{\\left | A\\cup B \\right |}=\\frac{\\left | A\\cap B \\right |}{\\left | A \\left |+ \\right | B \\right | - \\left | A\\cap B \\right |} $$\n"
      ],
      "metadata": {
        "id": "urRtDebyV1N2"
      }
    },
    {
      "cell_type": "code",
      "metadata": {
        "id": "SOWHS-UBFXLc"
      },
      "source": [],
      "execution_count": null,
      "outputs": []
    },
    {
      "cell_type": "code",
      "metadata": {
        "id": "6NZjjhnHHlOd"
      },
      "source": [],
      "execution_count": null,
      "outputs": []
    },
    {
      "cell_type": "markdown",
      "source": [
        "### 코사인 유사도(Cosine Similarity)\n",
        "\n",
        "* 백터 표현 사이의 각도에 대한 코사인 값을 사용. BoW와 TF-IDF 행렬은 텍스트에 대한 백터 표현으로 활용 가능\n",
        "\n",
        "$$ cosine(A, B)=\\frac{A \\cdot B}{\\left \\| A \\right \\| \\left \\| B \\right \\|}=\\frac{\\sum_{i=1}^{N}A_i\\times B_i}{\\sqrt{\\sum_{i=1}^{N}\\left (A_i \\right)^2}\\times \\sqrt{\\sum_{i=1}^{N}\\left (B_i \\right)^2}} $$"
      ],
      "metadata": {
        "id": "oghc5bsKWBgs"
      }
    },
    {
      "cell_type": "code",
      "metadata": {
        "id": "yk0vFQBkJLnn"
      },
      "source": [],
      "execution_count": null,
      "outputs": []
    },
    {
      "cell_type": "markdown",
      "source": [
        "## 군집화(Clustering)\n",
        "\n",
        "* 리뷰 데이터 다운로드 (http://archive.ics.uci.edu/ml/machine-learning-databases/opinion/OpinosisDataset1.0.zip)"
      ],
      "metadata": {
        "id": "I0_dfGjtzNHM"
      }
    },
    {
      "cell_type": "code",
      "source": [],
      "metadata": {
        "id": "KemlnuhZ6aXM"
      },
      "execution_count": null,
      "outputs": []
    },
    {
      "cell_type": "code",
      "source": [],
      "metadata": {
        "id": "rvqVYYBH6gIl"
      },
      "execution_count": null,
      "outputs": []
    },
    {
      "cell_type": "code",
      "source": [],
      "metadata": {
        "id": "-QXnjB7C6lbo"
      },
      "execution_count": null,
      "outputs": []
    },
    {
      "cell_type": "code",
      "source": [],
      "metadata": {
        "id": "a8g3_xIr6wIs"
      },
      "execution_count": null,
      "outputs": []
    },
    {
      "cell_type": "code",
      "source": [],
      "metadata": {
        "id": "8sZYfgmV14op"
      },
      "execution_count": null,
      "outputs": []
    },
    {
      "cell_type": "markdown",
      "source": [
        "### DBSCAN 알고리즘\n",
        "\n",
        "* 밀도 기반의 군집화 알고리즘\n",
        "* 특정 벡터부터 시작해 반경내 기준치 만큼의 점들이 존재한다면 군집화 하는 방식\n",
        "* 일정 밀도 이상의 데이터를 기준으로 군집을 형성하기 때문에 노이즈 처리에 용이\n",
        "* 이미 형성된 군집 기준으로 기준점을 옮겨가며 처리하기 때문에 분포가 이상한 데이터에도 강건함\n",
        "* K-means에 비해 속도가 느리고, 파라미터 값인 epsilon, min_sampels 값에 영향을 많이 받음"
      ],
      "metadata": {
        "id": "alMlD_i_ixHA"
      }
    },
    {
      "cell_type": "code",
      "source": [],
      "metadata": {
        "id": "QhJ0ZeOkizp3"
      },
      "execution_count": null,
      "outputs": []
    },
    {
      "cell_type": "code",
      "source": [],
      "metadata": {
        "id": "FefAPNBCj8E6"
      },
      "execution_count": null,
      "outputs": []
    },
    {
      "cell_type": "code",
      "source": [],
      "metadata": {
        "id": "L7OJTdKjkBe7"
      },
      "execution_count": null,
      "outputs": []
    },
    {
      "cell_type": "markdown",
      "source": [
        "### K-means 알고리즘\n",
        "\n",
        "* 대표적인 군집화 알고리즘\n",
        "* 클러스터 수 k를 직접 지정해야 함\n",
        "* 각 군집내 평균 벡터와 해당 군집에 속한 벡터간의 거리 제곱의 합이 최소가 되는 군집을 찾는 방법\n",
        "* 노이즈 데이터에 취약하고, 중심점(centroid)을 임의로 잡기 때문에 군집 결과가 상이하거나 나쁠수 있음"
      ],
      "metadata": {
        "id": "NozeOHtIiVMS"
      }
    },
    {
      "cell_type": "code",
      "source": [],
      "metadata": {
        "id": "a8hgWwLX2dff"
      },
      "execution_count": null,
      "outputs": []
    },
    {
      "cell_type": "code",
      "source": [],
      "metadata": {
        "id": "wQlUSu2O3no5"
      },
      "execution_count": null,
      "outputs": []
    },
    {
      "cell_type": "code",
      "source": [],
      "metadata": {
        "id": "F9FMrnQu-Fhb"
      },
      "execution_count": null,
      "outputs": []
    },
    {
      "cell_type": "code",
      "source": [],
      "metadata": {
        "id": "2G2hLv2EIspO"
      },
      "execution_count": null,
      "outputs": []
    },
    {
      "cell_type": "code",
      "source": [],
      "metadata": {
        "id": "UH5SIb4C-YkY"
      },
      "execution_count": null,
      "outputs": []
    },
    {
      "cell_type": "code",
      "source": [],
      "metadata": {
        "id": "yHfkznAL_Hk8"
      },
      "execution_count": null,
      "outputs": []
    },
    {
      "cell_type": "markdown",
      "source": [
        "### 리뷰 문서 유사도 측정"
      ],
      "metadata": {
        "id": "44GNtCYjtzNL"
      }
    },
    {
      "cell_type": "code",
      "source": [],
      "metadata": {
        "id": "UkwIeJaX1Azr"
      },
      "execution_count": null,
      "outputs": []
    },
    {
      "cell_type": "code",
      "source": [],
      "metadata": {
        "id": "wAu22nhNtyvo"
      },
      "execution_count": null,
      "outputs": []
    },
    {
      "cell_type": "code",
      "source": [],
      "metadata": {
        "id": "fnmCVN208nMw"
      },
      "execution_count": null,
      "outputs": []
    },
    {
      "cell_type": "code",
      "source": [],
      "metadata": {
        "id": "ZfV7kTk47vox"
      },
      "execution_count": null,
      "outputs": []
    },
    {
      "cell_type": "code",
      "source": [],
      "metadata": {
        "id": "Fz83pT_Nv4Kk"
      },
      "execution_count": null,
      "outputs": []
    },
    {
      "cell_type": "code",
      "source": [],
      "metadata": {
        "id": "_IUXDl3tx6FJ"
      },
      "execution_count": null,
      "outputs": []
    },
    {
      "cell_type": "code",
      "source": [],
      "metadata": {
        "id": "kFY-gKi-xtrb"
      },
      "execution_count": null,
      "outputs": []
    },
    {
      "cell_type": "markdown",
      "metadata": {
        "id": "n6GqkGGRcw11"
      },
      "source": [
        "## 계층적 군집화(Hierarchical Clustering)"
      ]
    },
    {
      "cell_type": "markdown",
      "metadata": {
        "id": "w3_LdBuB3eu4"
      },
      "source": [
        "* 계층적 군집화란 개별 개체들을 유사한 개체나 그룹과 통합해 군집화를 수행하는 알고리즘\n",
        "* 비계층적 군집화와는 달리 군집 수를 지정하지 않아도 군집화를 할 수 있는 것이 장점  \n",
        "* 계층적 군집화는 모든 개체간 거리나 유사도가 미리 계산되어 있어야만 하며, 계산복잡도도 비계층적 군집화보다 큼\n",
        "\n",
        "\n"
      ]
    },
    {
      "cell_type": "markdown",
      "metadata": {
        "id": "ShV75NPoCOdR"
      },
      "source": [
        "### 병합 군집화(Agglomerative Clustering)"
      ]
    },
    {
      "cell_type": "markdown",
      "metadata": {
        "id": "XqmquP17B-6r"
      },
      "source": [
        "* 비계층적 군집화의 일종인 `agglomerativeClustering`(병합 군집)을 이용, 계층적 군집화 실습    \n",
        "* 병합 군집은 각 개체들을 클러스터로 간주, 종료 조건을 만족할 때 까지 가장 비슷한 두 클러스터들을 합치며 진행\n",
        "* 병합 군집의 종료 조건에는 3가지(ward, average, complete)를 지정 가능"
      ]
    },
    {
      "cell_type": "markdown",
      "metadata": {
        "id": "5R-3nbN-Cflh"
      },
      "source": [
        "`ward`: 모든 클러스터 내의 분산을 가장 적게 증가시키는 두 클러스터를 합침(기본값)"
      ]
    },
    {
      "cell_type": "code",
      "metadata": {
        "id": "YzE7J1qqczzu"
      },
      "source": [],
      "execution_count": null,
      "outputs": []
    },
    {
      "cell_type": "code",
      "metadata": {
        "id": "Boe1jwGmohMF"
      },
      "source": [],
      "execution_count": null,
      "outputs": []
    },
    {
      "cell_type": "code",
      "metadata": {
        "id": "fd53VVnloj5-"
      },
      "source": [],
      "execution_count": null,
      "outputs": []
    },
    {
      "cell_type": "markdown",
      "metadata": {
        "id": "UzQbDI63Cidh"
      },
      "source": [
        "`average`: 클러스터간 평균 거리가 가장 짧은 두 클러스터를 합침"
      ]
    },
    {
      "cell_type": "code",
      "metadata": {
        "id": "-UupbES4C4jk"
      },
      "source": [],
      "execution_count": null,
      "outputs": []
    },
    {
      "cell_type": "code",
      "metadata": {
        "id": "RZsnW5iTC4pC"
      },
      "source": [],
      "execution_count": null,
      "outputs": []
    },
    {
      "cell_type": "code",
      "metadata": {
        "id": "82jEoQAoC4rt"
      },
      "source": [],
      "execution_count": null,
      "outputs": []
    },
    {
      "cell_type": "markdown",
      "metadata": {
        "id": "06we34IdCkfc"
      },
      "source": [
        "`complete`: 클러스터간 최대 거리가 가장 짧은 두 클러스터를 합침"
      ]
    },
    {
      "cell_type": "code",
      "metadata": {
        "id": "vRLkgHafDJ-T"
      },
      "source": [],
      "execution_count": null,
      "outputs": []
    },
    {
      "cell_type": "code",
      "metadata": {
        "id": "z4fdn-rLDKAx"
      },
      "source": [],
      "execution_count": null,
      "outputs": []
    },
    {
      "cell_type": "code",
      "metadata": {
        "id": "02fa3kUZDKC2"
      },
      "source": [],
      "execution_count": null,
      "outputs": []
    },
    {
      "cell_type": "markdown",
      "metadata": {
        "id": "0chOe9IyCXqm"
      },
      "source": [
        "### 덴드로그램(Dendrogram)"
      ]
    },
    {
      "cell_type": "markdown",
      "metadata": {
        "id": "vr4YdPeMDbjb"
      },
      "source": [
        "* `pdist`를 이용한 각 단어간 유클리디안 거리 계산"
      ]
    },
    {
      "cell_type": "code",
      "metadata": {
        "id": "4HQRcyag1QvP"
      },
      "source": [],
      "execution_count": null,
      "outputs": []
    },
    {
      "cell_type": "markdown",
      "metadata": {
        "id": "d53gCFB-DtBI"
      },
      "source": [
        "* 각 단어간 유클리디안 거리를 이용한 군집 분석 및 덴드로그램 시각화"
      ]
    },
    {
      "cell_type": "code",
      "metadata": {
        "id": "7bJJj7Zx1SKn"
      },
      "source": [],
      "execution_count": null,
      "outputs": []
    },
    {
      "cell_type": "markdown",
      "metadata": {
        "id": "VKJY0tieD4Wp"
      },
      "source": [
        "* 각 단어간 코사인 유사도를 이용한 군집 분석 및 덴드로그램 시각화"
      ]
    },
    {
      "cell_type": "code",
      "source": [],
      "metadata": {
        "id": "UAPP21DQZK0P"
      },
      "execution_count": null,
      "outputs": []
    },
    {
      "cell_type": "code",
      "source": [],
      "metadata": {
        "id": "f0aGg5L0ZN3E"
      },
      "execution_count": null,
      "outputs": []
    },
    {
      "cell_type": "markdown",
      "source": [
        "## 뉴스그룹 군집 분석"
      ],
      "metadata": {
        "id": "eJnXu1zkbmD7"
      }
    },
    {
      "cell_type": "markdown",
      "source": [
        "### 데이터 로드 및 전처리"
      ],
      "metadata": {
        "id": "w5vQY3ZZd1RS"
      }
    },
    {
      "cell_type": "code",
      "source": [],
      "metadata": {
        "id": "wTvUtCUiboOp"
      },
      "execution_count": null,
      "outputs": []
    },
    {
      "cell_type": "code",
      "source": [],
      "metadata": {
        "id": "BIf6cRH1cD2-"
      },
      "execution_count": null,
      "outputs": []
    },
    {
      "cell_type": "code",
      "source": [],
      "metadata": {
        "id": "JVGLYfKxcYUz"
      },
      "execution_count": null,
      "outputs": []
    },
    {
      "cell_type": "markdown",
      "source": [
        "### K-means 군집화"
      ],
      "metadata": {
        "id": "oLnbp151d5F0"
      }
    },
    {
      "cell_type": "code",
      "source": [],
      "metadata": {
        "id": "RBXY8RtFcayP"
      },
      "execution_count": null,
      "outputs": []
    },
    {
      "cell_type": "code",
      "source": [],
      "metadata": {
        "id": "xbYtldcbdLLa"
      },
      "execution_count": null,
      "outputs": []
    },
    {
      "cell_type": "code",
      "source": [],
      "metadata": {
        "id": "u_NlyYGRdQyW"
      },
      "execution_count": null,
      "outputs": []
    },
    {
      "cell_type": "code",
      "source": [],
      "metadata": {
        "id": "GHB5kbtVdYL2"
      },
      "execution_count": null,
      "outputs": []
    },
    {
      "cell_type": "code",
      "source": [],
      "metadata": {
        "id": "LDRlC1XEdlQm"
      },
      "execution_count": null,
      "outputs": []
    },
    {
      "cell_type": "markdown",
      "source": [
        "### 병합 군집화"
      ],
      "metadata": {
        "id": "SUV7wmd9eDO-"
      }
    },
    {
      "cell_type": "code",
      "source": [],
      "metadata": {
        "id": "JIZJHrBqeEAq"
      },
      "execution_count": null,
      "outputs": []
    },
    {
      "cell_type": "code",
      "source": [],
      "metadata": {
        "id": "gwiSrDydeQJQ"
      },
      "execution_count": null,
      "outputs": []
    },
    {
      "cell_type": "code",
      "source": [],
      "metadata": {
        "id": "aECRlpC6g7oJ"
      },
      "execution_count": null,
      "outputs": []
    }
  ]
}